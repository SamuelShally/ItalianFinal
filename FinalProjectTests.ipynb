{
 "cells": [
  {
   "cell_type": "markdown",
   "id": "35f290b6-e8b3-4be8-8f25-68de76b6d5cd",
   "metadata": {},
   "source": [
    "#### Writing data to the file."
   ]
  },
  {
   "cell_type": "code",
   "execution_count": 31,
   "id": "2e888629-f922-49b6-abed-f0b68838b3ba",
   "metadata": {},
   "outputs": [
    {
     "name": "stdout",
     "output_type": "stream",
     "text": [
      "Program is running...\n"
     ]
    },
    {
     "ename": "TypeError",
     "evalue": "can only concatenate str (not \"int\") to str",
     "output_type": "error",
     "traceback": [
      "\u001b[0;31m---------------------------------------------------------------------------\u001b[0m",
      "\u001b[0;31mTypeError\u001b[0m                                 Traceback (most recent call last)",
      "Cell \u001b[0;32mIn[31], line 19\u001b[0m\n\u001b[1;32m     15\u001b[0m url_template \u001b[38;5;241m=\u001b[39m \u001b[38;5;124mf\u001b[39m\u001b[38;5;124m'\u001b[39m\u001b[38;5;132;01m{\u001b[39;00mbase_url\u001b[38;5;132;01m}\u001b[39;00m\u001b[38;5;124m%d/%d.json?api-key=\u001b[39m\u001b[38;5;132;01m{\u001b[39;00mapi_key\u001b[38;5;132;01m}\u001b[39;00m\u001b[38;5;124m'\u001b[39m\n\u001b[1;32m     17\u001b[0m \u001b[38;5;28mprint\u001b[39m(\u001b[38;5;124m\"\u001b[39m\u001b[38;5;124mProgram is running...\u001b[39m\u001b[38;5;124m\"\u001b[39m)\n\u001b[0;32m---> 19\u001b[0m \u001b[38;5;28;01mfor\u001b[39;00m year \u001b[38;5;129;01min\u001b[39;00m \u001b[38;5;28mrange\u001b[39m(start, \u001b[43mend\u001b[49m\u001b[43m \u001b[49m\u001b[38;5;241;43m+\u001b[39;49m\u001b[43m \u001b[49m\u001b[38;5;241;43m1\u001b[39;49m):\n\u001b[1;32m     20\u001b[0m     \u001b[38;5;28;01mfor\u001b[39;00m month \u001b[38;5;129;01min\u001b[39;00m \u001b[38;5;28mrange\u001b[39m(\u001b[38;5;241m1\u001b[39m, \u001b[38;5;241m13\u001b[39m):  \u001b[38;5;66;03m# Fetch for all 12 months\u001b[39;00m\n\u001b[1;32m     21\u001b[0m         full_url \u001b[38;5;241m=\u001b[39m url_template \u001b[38;5;241m%\u001b[39m (year, month)\n",
      "\u001b[0;31mTypeError\u001b[0m: can only concatenate str (not \"int\") to str"
     ]
    }
   ],
   "source": [
    "import requests\n",
    "import json\n",
    "import csv\n",
    "import time\n",
    "\n",
    "api_key = 'Kv2FxshEyzdodl0Hh00O0OaHd0wASYm6'\n",
    "base_url = 'https://api.nytimes.com/svc/archive/v1/'\n",
    "\n",
    "start = \"\"\n",
    "end = \"\"\n",
    "\n",
    "keywords = ['anarchist', 'anarchists', 'anarchism']\n",
    "collection = [] \n",
    "\n",
    "url_template = f'{base_url}%d/%d.json?api-key={api_key}'\n",
    "\n",
    "print(\"Program is running...\")\n",
    "\n",
    "for year in range(start, end + 1):\n",
    "    for month in range(1, 13):  # Fetch for all 12 months\n",
    "        full_url = url_template % (year, month)\n",
    "        print(full_url)\n",
    "            \n",
    "        response = requests.get(full_url)\n",
    "        \n",
    "        # Check if the request was successful (status code 200)\n",
    "        if response.status_code == 200:\n",
    "            # Parse the JSON response\n",
    "            data = response.json()\n",
    "          \n",
    "            for article in data['response']['docs']:\n",
    "                headline = article['headline']['main'].lower()\n",
    "                \n",
    "                found = any(word in headline for word in keywords)\n",
    "                if found:\n",
    "                    collection.append(article)\n",
    "                    \n",
    "            time.sleep(13)  # Sleep for 13 seconds to avoid rate limits\n",
    "        \n",
    "        else:\n",
    "            print(f\"Error: {response.status_code}, {response.text}\")\n",
    "\n",
    "# Write data to CSV file\n",
    "csv_file_path = 'nyt_headlines.csv'\n",
    "fieldnames = ['publish_date', 'headline']\n",
    "\n",
    "with open(csv_file_path, 'a', newline='', encoding='utf-8') as csvfile:\n",
    "    writer = csv.DictWriter(csvfile, fieldnames=fieldnames)\n",
    "    \n",
    "    # Write header only if the file is empty\n",
    "    if csvfile.tell() == 0:\n",
    "        writer.writeheader()\n",
    "    \n",
    "    for article in collection:\n",
    "        publish_date = article['pub_date']\n",
    "        headline = article['headline']['main']\n",
    "        writer.writerow({'publish_date': publish_date, 'headline': headline})\n",
    "\n",
    "print(\"Program is done. Data written to nyt_headlines.csv.\")\n"
   ]
  },
  {
   "cell_type": "code",
   "execution_count": 50,
   "id": "e1db1fff-26d3-4256-8f6d-283a80a4536b",
   "metadata": {},
   "outputs": [
    {
     "name": "stdout",
     "output_type": "stream",
     "text": [
      "               publish_date  \\\n",
      "0 1890-01-05 05:00:00+00:00   \n",
      "1 1890-02-08 05:00:00+00:00   \n",
      "2 1890-04-29 05:00:00+00:00   \n",
      "3 1890-04-30 05:00:00+00:00   \n",
      "4 1890-05-01 05:00:00+00:00   \n",
      "\n",
      "                                            headline  month  year  \n",
      "0  HIS THREATS CARRIED OUT.; A CRAZY ANARCHIST KI...      1  1890  \n",
      "1  MAY HAVE TO HANG YET.; IMPRISONED CHICAGO ANAR...      2  1890  \n",
      "2  ANARCHISTS VERY ACTIVE; EUROPE'S WORKINGMEN IN...      4  1890  \n",
      "3  INCITED TO REVOLUTION; ANARCHISTS AND BOULANGI...      4  1890  \n",
      "4  EUROPE IN GREAT FEAR; GREAT PREPARATIONS TO RE...      5  1890  \n"
     ]
    }
   ],
   "source": [
    "import pandas as pd\n",
    "import matplotlib.pyplot as plt\n",
    "\n",
    "data = pd.read_csv(\"nyt_headlines.csv\")\n",
    "data[\"publish_date\"] = pd.to_datetime(data[\"publish_date\"])\n",
    "\n",
    "#Create Month and Year colunms\n",
    "data[\"month\"] = data[\"publish_date\"].dt.month\n",
    "data[\"year\"] = data[\"publish_date\"].dt.year\n",
    "\n",
    "print(data.head())\n",
    "\n",
    "frequency = data.groupby('year').size().reset_index(name='count')\n",
    "total_entries = frequency['count'].sum()"
   ]
  },
  {
   "cell_type": "code",
   "execution_count": 56,
   "id": "d3367e1b-7c49-4a8f-a888-583edf9913b6",
   "metadata": {},
   "outputs": [
    {
     "data": {
      "image/png": "[encoded data removed]",
      "text/plain": [
       "<Figure size 640x480 with 1 Axes>"
      ]
     },
     "metadata": {},
     "output_type": "display_data"
    }
   ],
   "source": [
    "plt.bar(frequency['year'], frequency['count'])\n",
    "plt.xlabel('Year')\n",
    "plt.ylabel('Count')\n",
    "plt.title('Bar Plot: Frequency of Entries by Year')\n",
    "plt.show()"
   ]
  },
  {
   "cell_type": "code",
   "execution_count": 57,
   "id": "78e71e61-981d-496b-b193-cd3ba4992600",
   "metadata": {},
   "outputs": [
    {
     "data": {
      "image/png": "[encoded data removed]",
      "text/plain": [
       "<Figure size 640x480 with 1 Axes>"
      ]
     },
     "metadata": {},
     "output_type": "display_data"
    }
   ],
   "source": [
    "import matplotlib.pyplot as plt\n",
    "\n",
    "plt.plot(frequency['year'], frequency['count'], marker='o')\n",
    "plt.xlabel('Year')\n",
    "plt.ylabel('Count')\n",
    "plt.title('Line Plot: Frequency of Entries by Year')\n",
    "plt.grid(True)\n",
    "plt.show()"
   ]
  },
  {
   "cell_type": "code",
   "execution_count": 109,
   "id": "e48af78c-27d0-43f8-9518-0a2117e873a4",
   "metadata": {},
   "outputs": [
    {
     "data": {
      "text/html": [
       "<div>\n",
       "<style scoped>\n",
       "    .dataframe tbody tr th:only-of-type {\n",
       "        vertical-align: middle;\n",
       "    }\n",
       "\n",
       "    .dataframe tbody tr th {\n",
       "        vertical-align: top;\n",
       "    }\n",
       "\n",
       "    .dataframe thead th {\n",
       "        text-align: right;\n",
       "    }\n",
       "</style>\n",
       "<table border=\"1\" class=\"dataframe\">\n",
       "  <thead>\n",
       "    <tr style=\"text-align: right;\">\n",
       "      <th></th>\n",
       "      <th>month_year</th>\n",
       "      <th>count</th>\n",
       "    </tr>\n",
       "  </thead>\n",
       "  <tbody>\n",
       "    <tr>\n",
       "      <th>0</th>\n",
       "      <td>1885-01</td>\n",
       "      <td>2</td>\n",
       "    </tr>\n",
       "    <tr>\n",
       "      <th>1</th>\n",
       "      <td>1885-02</td>\n",
       "      <td>6</td>\n",
       "    </tr>\n",
       "    <tr>\n",
       "      <th>2</th>\n",
       "      <td>1885-03</td>\n",
       "      <td>3</td>\n",
       "    </tr>\n",
       "    <tr>\n",
       "      <th>3</th>\n",
       "      <td>1885-04</td>\n",
       "      <td>1</td>\n",
       "    </tr>\n",
       "    <tr>\n",
       "      <th>4</th>\n",
       "      <td>1885-05</td>\n",
       "      <td>2</td>\n",
       "    </tr>\n",
       "  </tbody>\n",
       "</table>\n",
       "</div>"
      ],
      "text/plain": [
       "  month_year  count\n",
       "0    1885-01      2\n",
       "1    1885-02      6\n",
       "2    1885-03      3\n",
       "3    1885-04      1\n",
       "4    1885-05      2"
      ]
     },
     "execution_count": 109,
     "metadata": {},
     "output_type": "execute_result"
    }
   ],
   "source": [
    "data[\"month_year\"] = data[\"publish_date\"].dt.strftime('%Y-%m')\n",
    "frequency_two = data.groupby('month_year').size().reset_index(name='count')\n",
    "\n",
    "frequency_two.head()"
   ]
  },
  {
   "cell_type": "code",
   "execution_count": 110,
   "id": "f96f0b97-97e4-4dbf-9b06-176b27a70af6",
   "metadata": {},
   "outputs": [
    {
     "data": {
      "image/png": "[encoded data removed]",
      "text/plain": [
       "<Figure size 640x480 with 1 Axes>"
      ]
     },
     "metadata": {},
     "output_type": "display_data"
    }
   ],
   "source": [
    "plt.plot(frequency_two['month_year'], frequency_two['count'])\n",
    "plt.xlabel('Year')\n",
    "plt.ylabel('Count')\n",
    "plt.title('Bar Plot: Frequency of Entries by Month')\n",
    "\n",
    "plt.xticks(frequency_two['month_year'][::12], rotation=90)\n",
    "\n",
    "plt.show()"
   ]
  },
  {
   "cell_type": "code",
   "execution_count": 112,
   "id": "51826519-cdd3-4f1b-93d0-26db35d2f4e6",
   "metadata": {},
   "outputs": [
    {
     "data": {
      "application/vnd.plotly.v1+json": {
       "config": {
        "plotlyServerURL": "https://plot.ly"
       },
       "data": [
        {
         "alignmentgroup": "True",
         "hovertemplate": "Month-Year=%{x|%B %Y}<br>Count=%{y}<extra></extra>",
         "legendgroup": "",
         "marker": {
          "color": "#636efa",
          "pattern": {
           "shape": ""
          }
         },
         "name": "",
         "offsetgroup": "",
         "orientation": "v",
         "showlegend": false,
         "textposition": "auto",
         "type": "bar",
         "x": [
          "1885-01",
          "1885-02",
          "1885-03",
          "1885-04",
          "1885-05",
          "1885-06",
          "1885-08",
          "1885-11",
          "1886-03",
          "1886-04",
          "1886-05",
          "1886-06",
          "1886-07",
          "1886-08",
          "1886-09",
          "1886-10",
          "1886-11",
          "1886-12",
          "1887-01",
          "1887-02",
          "1887-03",
          "1887-04",
          "1887-05",
          "1887-06",
          "1887-07",
          "1887-08",
          "1887-09",
          "1887-10",
          "1887-11",
          "1887-12",
          "1888-01",
          "1888-02",
          "1888-03",
          "1888-04",
          "1888-05",
          "1888-06",
          "1888-07",
          "1888-09",
          "1888-10",
          "1888-11",
          "1888-12",
          "1889-01",
          "1889-02",
          "1889-03",
          "1889-04",
          "1889-07",
          "1889-10",
          "1889-11",
          "1889-12",
          "1890-01",
          "1890-02",
          "1890-04",
          "1890-05",
          "1890-07",
          "1890-08",
          "1890-09",
          "1890-11",
          "1890-12",
          "1891-02",
          "1891-03",
          "1891-04",
          "1891-05",
          "1891-06",
          "1891-08",
          "1891-11",
          "1891-12",
          "1892-01",
          "1892-02",
          "1892-03",
          "1892-04",
          "1892-05",
          "1892-06",
          "1892-07",
          "1892-08",
          "1892-09",
          "1892-10",
          "1892-11",
          "1892-12",
          "1893-01",
          "1893-02",
          "1893-03",
          "1893-04",
          "1893-05",
          "1893-06",
          "1893-07",
          "1893-08",
          "1893-09",
          "1893-10",
          "1893-11",
          "1893-12",
          "1894-01",
          "1894-02",
          "1894-03",
          "1894-04",
          "1894-05",
          "1894-06",
          "1894-07",
          "1894-08",
          "1894-09",
          "1894-10",
          "1894-11",
          "1894-12",
          "1895-01",
          "1895-02",
          "1895-03",
          "1895-04",
          "1895-05",
          "1895-06",
          "1895-07",
          "1895-08",
          "1895-09",
          "1895-10",
          "1895-11",
          "1895-12",
          "1896-01",
          "1896-02",
          "1896-03",
          "1896-04",
          "1896-05",
          "1896-06",
          "1896-07",
          "1896-08",
          "1896-09",
          "1896-10",
          "1896-11",
          "1897-03",
          "1897-04",
          "1897-05",
          "1897-06",
          "1897-07",
          "1897-08",
          "1897-09",
          "1897-10",
          "1897-11",
          "1897-12",
          "1898-01",
          "1898-02",
          "1898-03",
          "1898-06",
          "1898-07",
          "1898-08",
          "1898-09",
          "1898-10",
          "1898-11",
          "1898-12",
          "1899-01",
          "1899-02",
          "1899-05",
          "1899-06",
          "1899-07",
          "1899-08",
          "1899-09",
          "1899-10",
          "1899-11",
          "1899-12",
          "1900-02",
          "1900-04",
          "1900-05",
          "1900-07",
          "1900-08",
          "1900-09",
          "1900-10",
          "1900-11",
          "1900-12",
          "1901-01",
          "1901-02",
          "1901-03",
          "1901-04",
          "1901-05",
          "1901-06",
          "1901-07",
          "1901-08",
          "1901-09",
          "1901-10",
          "1901-11",
          "1901-12",
          "1902-01",
          "1902-02",
          "1902-03",
          "1902-04",
          "1902-05",
          "1902-06",
          "1902-07",
          "1902-08",
          "1902-09",
          "1902-10",
          "1902-11",
          "1902-12",
          "1903-01",
          "1903-02",
          "1903-03",
          "1903-04",
          "1903-05",
          "1903-06",
          "1903-07",
          "1903-08",
          "1903-09",
          "1903-10",
          "1903-11",
          "1903-12",
          "1904-01",
          "1904-02",
          "1904-03",
          "1904-04",
          "1904-05",
          "1904-06",
          "1904-07",
          "1904-08",
          "1904-09",
          "1904-10",
          "1904-11",
          "1904-12",
          "1905-01",
          "1905-02",
          "1905-03",
          "1905-04",
          "1905-05",
          "1905-06",
          "1905-07",
          "1905-08",
          "1905-09",
          "1905-10",
          "1905-11",
          "1905-12",
          "1906-01",
          "1906-02",
          "1906-03",
          "1906-04",
          "1906-05",
          "1906-06",
          "1906-07",
          "1906-08",
          "1906-09",
          "1906-10",
          "1906-11",
          "1906-12",
          "1907-01",
          "1907-02",
          "1907-03",
          "1907-04",
          "1907-05",
          "1907-06",
          "1907-07",
          "1907-08",
          "1907-09",
          "1907-10",
          "1907-11",
          "1907-12",
          "1908-01",
          "1908-02",
          "1908-03",
          "1908-04",
          "1908-05",
          "1908-06",
          "1908-07",
          "1908-08",
          "1908-09",
          "1908-11",
          "1909-01",
          "1909-02",
          "1909-03",
          "1909-05",
          "1909-06",
          "1909-07",
          "1909-08",
          "1909-09",
          "1909-10",
          "1909-11",
          "1909-12",
          "1910-02",
          "1910-03",
          "1910-04",
          "1910-05",
          "1910-06",
          "1910-07",
          "1910-08",
          "1910-09",
          "1910-10",
          "1910-11",
          "1910-12",
          "1911-01",
          "1911-02",
          "1911-03",
          "1911-04",
          "1911-05",
          "1911-06",
          "1911-08",
          "1911-10",
          "1912-01",
          "1912-02",
          "1912-03",
          "1912-04",
          "1912-05",
          "1912-06",
          "1912-07",
          "1912-08",
          "1912-09",
          "1912-10",
          "1912-11",
          "1912-12",
          "1913-01",
          "1913-02",
          "1913-03",
          "1913-04",
          "1913-05",
          "1913-06",
          "1913-08",
          "1913-09",
          "1913-10",
          "1913-11",
          "1913-12",
          "1914-01",
          "1914-03",
          "1914-04",
          "1914-05",
          "1914-06",
          "1914-07",
          "1914-08",
          "1914-10",
          "1914-11",
          "1914-12",
          "1915-01",
          "1915-02",
          "1915-03",
          "1915-04",
          "1915-05",
          "1915-06",
          "1915-07",
          "1915-08",
          "1915-09",
          "1915-10",
          "1915-12",
          "1916-01",
          "1916-02",
          "1916-04",
          "1916-07",
          "1916-12",
          "1917-01",
          "1917-04",
          "1917-05",
          "1917-06",
          "1917-07",
          "1917-08",
          "1917-09",
          "1917-10",
          "1917-11",
          "1917-12",
          "1918-01",
          "1918-02",
          "1918-03",
          "1918-05",
          "1918-06",
          "1918-08",
          "1918-09",
          "1918-10",
          "1918-11",
          "1918-12",
          "1919-01",
          "1919-02",
          "1919-03",
          "1919-04",
          "1919-05",
          "1919-06",
          "1919-07",
          "1919-08",
          "1919-09",
          "1919-10",
          "1919-11",
          "1919-12",
          "1920-01",
          "1920-02",
          "1920-03",
          "1920-04",
          "1920-05",
          "1920-06",
          "1920-07",
          "1920-08",
          "1920-09",
          "1920-10",
          "1920-11",
          "1920-12"
         ],
         "xaxis": "x",
         "y": [
          2,
          6,
          3,
          1,
          2,
          1,
          1,
          1,
          3,
          1,
          38,
          21,
          25,
          30,
          4,
          13,
          11,
          8,
          2,
          2,
          6,
          3,
          6,
          3,
          4,
          3,
          22,
          29,
          39,
          10,
          3,
          1,
          5,
          1,
          4,
          1,
          8,
          4,
          2,
          10,
          7,
          5,
          1,
          2,
          1,
          3,
          2,
          3,
          2,
          1,
          1,
          2,
          4,
          1,
          2,
          1,
          10,
          3,
          1,
          1,
          3,
          1,
          1,
          3,
          5,
          1,
          10,
          9,
          23,
          27,
          17,
          4,
          14,
          5,
          1,
          4,
          15,
          3,
          3,
          1,
          2,
          4,
          6,
          7,
          4,
          9,
          11,
          11,
          6,
          22,
          23,
          20,
          11,
          9,
          12,
          12,
          35,
          23,
          3,
          2,
          8,
          2,
          8,
          6,
          4,
          2,
          3,
          1,
          3,
          4,
          7,
          4,
          3,
          1,
          1,
          3,
          1,
          2,
          1,
          3,
          10,
          2,
          5,
          2,
          1,
          2,
          1,
          5,
          4,
          3,
          30,
          9,
          5,
          5,
          4,
          3,
          2,
          2,
          2,
          2,
          3,
          17,
          8,
          10,
          6,
          2,
          2,
          1,
          1,
          1,
          2,
          1,
          1,
          2,
          3,
          1,
          1,
          2,
          3,
          50,
          2,
          4,
          2,
          3,
          3,
          2,
          1,
          2,
          8,
          1,
          2,
          10,
          76,
          15,
          7,
          7,
          6,
          1,
          2,
          8,
          4,
          4,
          8,
          7,
          1,
          2,
          13,
          4,
          4,
          5,
          4,
          2,
          3,
          3,
          5,
          3,
          2,
          7,
          10,
          3,
          2,
          2,
          3,
          8,
          6,
          3,
          2,
          1,
          1,
          2,
          2,
          2,
          1,
          3,
          2,
          2,
          2,
          4,
          1,
          1,
          3,
          1,
          3,
          4,
          2,
          2,
          3,
          5,
          4,
          15,
          6,
          7,
          2,
          2,
          13,
          3,
          8,
          1,
          2,
          3,
          5,
          7,
          3,
          6,
          7,
          2,
          1,
          2,
          6,
          5,
          22,
          13,
          7,
          2,
          1,
          2,
          3,
          2,
          1,
          2,
          1,
          4,
          6,
          1,
          3,
          2,
          4,
          3,
          1,
          1,
          1,
          2,
          1,
          1,
          1,
          6,
          1,
          2,
          1,
          3,
          11,
          2,
          1,
          4,
          5,
          1,
          3,
          1,
          1,
          3,
          6,
          1,
          5,
          1,
          1,
          1,
          1,
          1,
          4,
          3,
          1,
          3,
          3,
          3,
          7,
          2,
          2,
          3,
          1,
          1,
          2,
          2,
          6,
          2,
          5,
          6,
          9,
          2,
          1,
          5,
          1,
          2,
          2,
          10,
          4,
          1,
          1,
          3,
          2,
          1,
          1,
          2,
          2,
          5,
          2,
          3,
          1,
          4,
          3,
          4,
          20,
          15,
          1,
          2,
          2,
          2,
          5,
          1,
          7,
          1,
          7,
          1,
          1,
          3,
          1,
          1,
          3,
          3,
          14,
          3,
          4,
          9,
          25,
          7,
          8,
          5,
          17,
          10,
          15,
          2,
          6,
          3,
          2,
          4,
          4,
          2,
          5,
          7,
          7,
          6,
          1
         ],
         "yaxis": "y"
        }
       ],
       "layout": {
        "barmode": "relative",
        "height": 400,
        "legend": {
         "tracegroupgap": 0
        },
        "template": {
         "data": {
          "bar": [
           {
            "error_x": {
             "color": "#2a3f5f"
            },
            "error_y": {
             "color": "#2a3f5f"
            },
            "marker": {
             "line": {
              "color": "#E5ECF6",
              "width": 0.5
             },
             "pattern": {
              "fillmode": "overlay",
              "size": 10,
              "solidity": 0.2
             }
            },
            "type": "bar"
           }
          ],
          "barpolar": [
           {
            "marker": {
             "line": {
              "color": "#E5ECF6",
              "width": 0.5
             },
             "pattern": {
              "fillmode": "overlay",
              "size": 10,
              "solidity": 0.2
             }
            },
            "type": "barpolar"
           }
          ],
          "carpet": [
           {
            "aaxis": {
             "endlinecolor": "#2a3f5f",
             "gridcolor": "white",
             "linecolor": "white",
             "minorgridcolor": "white",
             "startlinecolor": "#2a3f5f"
            },
            "baxis": {
             "endlinecolor": "#2a3f5f",
             "gridcolor": "white",
             "linecolor": "white",
             "minorgridcolor": "white",
             "startlinecolor": "#2a3f5f"
            },
            "type": "carpet"
           }
          ],
          "choropleth": [
           {
            "colorbar": {
             "outlinewidth": 0,
             "ticks": ""
            },
            "type": "choropleth"
           }
          ],
          "contour": [
           {
            "colorbar": {
             "outlinewidth": 0,
             "ticks": ""
            },
            "colorscale": [
             [
              0,
              "#0d0887"
             ],
             [
              0.1111111111111111,
              "#46039f"
             ],
             [
              0.2222222222222222,
              "#7201a8"
             ],
             [
              0.3333333333333333,
              "#9c179e"
             ],
             [
              0.4444444444444444,
              "#bd3786"
             ],
             [
              0.5555555555555556,
              "#d8576b"
             ],
             [
              0.6666666666666666,
              "#ed7953"
             ],
             [
              0.7777777777777778,
              "#fb9f3a"
             ],
             [
              0.8888888888888888,
              "#fdca26"
             ],
             [
              1,
              "#f0f921"
             ]
            ],
            "type": "contour"
           }
          ],
          "contourcarpet": [
           {
            "colorbar": {
             "outlinewidth": 0,
             "ticks": ""
            },
            "type": "contourcarpet"
           }
          ],
          "heatmap": [
           {
            "colorbar": {
             "outlinewidth": 0,
             "ticks": ""
            },
            "colorscale": [
             [
              0,
              "#0d0887"
             ],
             [
              0.1111111111111111,
              "#46039f"
             ],
             [
              0.2222222222222222,
              "#7201a8"
             ],
             [
              0.3333333333333333,
              "#9c179e"
             ],
             [
              0.4444444444444444,
              "#bd3786"
             ],
             [
              0.5555555555555556,
              "#d8576b"
             ],
             [
              0.6666666666666666,
              "#ed7953"
             ],
             [
              0.7777777777777778,
              "#fb9f3a"
             ],
             [
              0.8888888888888888,
              "#fdca26"
             ],
             [
              1,
              "#f0f921"
             ]
            ],
            "type": "heatmap"
           }
          ],
          "heatmapgl": [
           {
            "colorbar": {
             "outlinewidth": 0,
             "ticks": ""
            },
            "colorscale": [
             [
              0,
              "#0d0887"
             ],
             [
              0.1111111111111111,
              "#46039f"
             ],
             [
              0.2222222222222222,
              "#7201a8"
             ],
             [
              0.3333333333333333,
              "#9c179e"
             ],
             [
              0.4444444444444444,
              "#bd3786"
             ],
             [
              0.5555555555555556,
              "#d8576b"
             ],
             [
              0.6666666666666666,
              "#ed7953"
             ],
             [
              0.7777777777777778,
              "#fb9f3a"
             ],
             [
              0.8888888888888888,
              "#fdca26"
             ],
             [
              1,
              "#f0f921"
             ]
            ],
            "type": "heatmapgl"
           }
          ],
          "histogram": [
           {
            "marker": {
             "pattern": {
              "fillmode": "overlay",
              "size": 10,
              "solidity": 0.2
             }
            },
            "type": "histogram"
           }
          ],
          "histogram2d": [
           {
            "colorbar": {
             "outlinewidth": 0,
             "ticks": ""
            },
            "colorscale": [
             [
              0,
              "#0d0887"
             ],
             [
              0.1111111111111111,
              "#46039f"
             ],
             [
              0.2222222222222222,
              "#7201a8"
             ],
             [
              0.3333333333333333,
              "#9c179e"
             ],
             [
              0.4444444444444444,
              "#bd3786"
             ],
             [
              0.5555555555555556,
              "#d8576b"
             ],
             [
              0.6666666666666666,
              "#ed7953"
             ],
             [
              0.7777777777777778,
              "#fb9f3a"
             ],
             [
              0.8888888888888888,
              "#fdca26"
             ],
             [
              1,
              "#f0f921"
             ]
            ],
            "type": "histogram2d"
           }
          ],
          "histogram2dcontour": [
           {
            "colorbar": {
             "outlinewidth": 0,
             "ticks": ""
            },
            "colorscale": [
             [
              0,
              "#0d0887"
             ],
             [
              0.1111111111111111,
              "#46039f"
             ],
             [
              0.2222222222222222,
              "#7201a8"
             ],
             [
              0.3333333333333333,
              "#9c179e"
             ],
             [
              0.4444444444444444,
              "#bd3786"
             ],
             [
              0.5555555555555556,
              "#d8576b"
             ],
             [
              0.6666666666666666,
              "#ed7953"
             ],
             [
              0.7777777777777778,
              "#fb9f3a"
             ],
             [
              0.8888888888888888,
              "#fdca26"
             ],
             [
              1,
              "#f0f921"
             ]
            ],
            "type": "histogram2dcontour"
           }
          ],
          "mesh3d": [
           {
            "colorbar": {
             "outlinewidth": 0,
             "ticks": ""
            },
            "type": "mesh3d"
           }
          ],
          "parcoords": [
           {
            "line": {
             "colorbar": {
              "outlinewidth": 0,
              "ticks": ""
             }
            },
            "type": "parcoords"
           }
          ],
          "pie": [
           {
            "automargin": true,
            "type": "pie"
           }
          ],
          "scatter": [
           {
            "fillpattern": {
             "fillmode": "overlay",
             "size": 10,
             "solidity": 0.2
            },
            "type": "scatter"
           }
          ],
          "scatter3d": [
           {
            "line": {
             "colorbar": {
              "outlinewidth": 0,
              "ticks": ""
             }
            },
            "marker": {
             "colorbar": {
              "outlinewidth": 0,
              "ticks": ""
             }
            },
            "type": "scatter3d"
           }
          ],
          "scattercarpet": [
           {
            "marker": {
             "colorbar": {
              "outlinewidth": 0,
              "ticks": ""
             }
            },
            "type": "scattercarpet"
           }
          ],
          "scattergeo": [
           {
            "marker": {
             "colorbar": {
              "outlinewidth": 0,
              "ticks": ""
             }
            },
            "type": "scattergeo"
           }
          ],
          "scattergl": [
           {
            "marker": {
             "colorbar": {
              "outlinewidth": 0,
              "ticks": ""
             }
            },
            "type": "scattergl"
           }
          ],
          "scattermapbox": [
           {
            "marker": {
             "colorbar": {
              "outlinewidth": 0,
              "ticks": ""
             }
            },
            "type": "scattermapbox"
           }
          ],
          "scatterpolar": [
           {
            "marker": {
             "colorbar": {
              "outlinewidth": 0,
              "ticks": ""
             }
            },
            "type": "scatterpolar"
           }
          ],
          "scatterpolargl": [
           {
            "marker": {
             "colorbar": {
              "outlinewidth": 0,
              "ticks": ""
             }
            },
            "type": "scatterpolargl"
           }
          ],
          "scatterternary": [
           {
            "marker": {
             "colorbar": {
              "outlinewidth": 0,
              "ticks": ""
             }
            },
            "type": "scatterternary"
           }
          ],
          "surface": [
           {
            "colorbar": {
             "outlinewidth": 0,
             "ticks": ""
            },
            "colorscale": [
             [
              0,
              "#0d0887"
             ],
             [
              0.1111111111111111,
              "#46039f"
             ],
             [
              0.2222222222222222,
              "#7201a8"
             ],
             [
              0.3333333333333333,
              "#9c179e"
             ],
             [
              0.4444444444444444,
              "#bd3786"
             ],
             [
              0.5555555555555556,
              "#d8576b"
             ],
             [
              0.6666666666666666,
              "#ed7953"
             ],
             [
              0.7777777777777778,
              "#fb9f3a"
             ],
             [
              0.8888888888888888,
              "#fdca26"
             ],
             [
              1,
              "#f0f921"
             ]
            ],
            "type": "surface"
           }
          ],
          "table": [
           {
            "cells": {
             "fill": {
              "color": "#EBF0F8"
             },
             "line": {
              "color": "white"
             }
            },
            "header": {
             "fill": {
              "color": "#C8D4E3"
             },
             "line": {
              "color": "white"
             }
            },
            "type": "table"
           }
          ]
         },
         "layout": {
          "annotationdefaults": {
           "arrowcolor": "#2a3f5f",
           "arrowhead": 0,
           "arrowwidth": 1
          },
          "autotypenumbers": "strict",
          "coloraxis": {
           "colorbar": {
            "outlinewidth": 0,
            "ticks": ""
           }
          },
          "colorscale": {
           "diverging": [
            [
             0,
             "#8e0152"
            ],
            [
             0.1,
             "#c51b7d"
            ],
            [
             0.2,
             "#de77ae"
            ],
            [
             0.3,
             "#f1b6da"
            ],
            [
             0.4,
             "#fde0ef"
            ],
            [
             0.5,
             "#f7f7f7"
            ],
            [
             0.6,
             "#e6f5d0"
            ],
            [
             0.7,
             "#b8e186"
            ],
            [
             0.8,
             "#7fbc41"
            ],
            [
             0.9,
             "#4d9221"
            ],
            [
             1,
             "#276419"
            ]
           ],
           "sequential": [
            [
             0,
             "#0d0887"
            ],
            [
             0.1111111111111111,
             "#46039f"
            ],
            [
             0.2222222222222222,
             "#7201a8"
            ],
            [
             0.3333333333333333,
             "#9c179e"
            ],
            [
             0.4444444444444444,
             "#bd3786"
            ],
            [
             0.5555555555555556,
             "#d8576b"
            ],
            [
             0.6666666666666666,
             "#ed7953"
            ],
            [
             0.7777777777777778,
             "#fb9f3a"
            ],
            [
             0.8888888888888888,
             "#fdca26"
            ],
            [
             1,
             "#f0f921"
            ]
           ],
           "sequentialminus": [
            [
             0,
             "#0d0887"
            ],
            [
             0.1111111111111111,
             "#46039f"
            ],
            [
             0.2222222222222222,
             "#7201a8"
            ],
            [
             0.3333333333333333,
             "#9c179e"
            ],
            [
             0.4444444444444444,
             "#bd3786"
            ],
            [
             0.5555555555555556,
             "#d8576b"
            ],
            [
             0.6666666666666666,
             "#ed7953"
            ],
            [
             0.7777777777777778,
             "#fb9f3a"
            ],
            [
             0.8888888888888888,
             "#fdca26"
            ],
            [
             1,
             "#f0f921"
            ]
           ]
          },
          "colorway": [
           "#636efa",
           "#EF553B",
           "#00cc96",
           "#ab63fa",
           "#FFA15A",
           "#19d3f3",
           "#FF6692",
           "#B6E880",
           "#FF97FF",
           "#FECB52"
          ],
          "font": {
           "color": "#2a3f5f"
          },
          "geo": {
           "bgcolor": "white",
           "lakecolor": "white",
           "landcolor": "#E5ECF6",
           "showlakes": true,
           "showland": true,
           "subunitcolor": "white"
          },
          "hoverlabel": {
           "align": "left"
          },
          "hovermode": "closest",
          "mapbox": {
           "style": "light"
          },
          "paper_bgcolor": "white",
          "plot_bgcolor": "#E5ECF6",
          "polar": {
           "angularaxis": {
            "gridcolor": "white",
            "linecolor": "white",
            "ticks": ""
           },
           "bgcolor": "#E5ECF6",
           "radialaxis": {
            "gridcolor": "white",
            "linecolor": "white",
            "ticks": ""
           }
          },
          "scene": {
           "xaxis": {
            "backgroundcolor": "#E5ECF6",
            "gridcolor": "white",
            "gridwidth": 2,
            "linecolor": "white",
            "showbackground": true,
            "ticks": "",
            "zerolinecolor": "white"
           },
           "yaxis": {
            "backgroundcolor": "#E5ECF6",
            "gridcolor": "white",
            "gridwidth": 2,
            "linecolor": "white",
            "showbackground": true,
            "ticks": "",
            "zerolinecolor": "white"
           },
           "zaxis": {
            "backgroundcolor": "#E5ECF6",
            "gridcolor": "white",
            "gridwidth": 2,
            "linecolor": "white",
            "showbackground": true,
            "ticks": "",
            "zerolinecolor": "white"
           }
          },
          "shapedefaults": {
           "line": {
            "color": "#2a3f5f"
           }
          },
          "ternary": {
           "aaxis": {
            "gridcolor": "white",
            "linecolor": "white",
            "ticks": ""
           },
           "baxis": {
            "gridcolor": "white",
            "linecolor": "white",
            "ticks": ""
           },
           "bgcolor": "#E5ECF6",
           "caxis": {
            "gridcolor": "white",
            "linecolor": "white",
            "ticks": ""
           }
          },
          "title": {
           "x": 0.05
          },
          "xaxis": {
           "automargin": true,
           "gridcolor": "white",
           "linecolor": "white",
           "ticks": "",
           "title": {
            "standoff": 15
           },
           "zerolinecolor": "white",
           "zerolinewidth": 2
          },
          "yaxis": {
           "automargin": true,
           "gridcolor": "white",
           "linecolor": "white",
           "ticks": "",
           "title": {
            "standoff": 15
           },
           "zerolinecolor": "white",
           "zerolinewidth": 2
          }
         }
        },
        "title": {
         "text": "Bar Plot: Frequency of Entries by Month"
        },
        "width": 800,
        "xaxis": {
         "anchor": "y",
         "autorange": true,
         "domain": [
          0,
          1
         ],
         "range": [
          "1884-12-18",
          "1920-12-15"
         ],
         "tickangle": 90,
         "title": {
          "text": "Month-Year"
         },
         "type": "date"
        },
        "yaxis": {
         "anchor": "x",
         "autorange": true,
         "domain": [
          0,
          1
         ],
         "range": [
          0,
          80
         ],
         "title": {
          "text": "Count"
         },
         "type": "linear"
        }
       }
      },
      "image/png": "[encoded data removed]",
      "text/html": [
       "<div>                            <div id=\"e26efa7b-181b-41c5-b0a3-9260dce61f62\" class=\"plotly-graph-div\" style=\"height:400px; width:800px;\"></div>            <script type=\"text/javascript\">                require([\"plotly\"], function(Plotly) {                    window.PLOTLYENV=window.PLOTLYENV || {};                                    if (document.getElementById(\"e26efa7b-181b-41c5-b0a3-9260dce61f62\")) {                    Plotly.newPlot(                        \"e26efa7b-181b-41c5-b0a3-9260dce61f62\",                        [{\"alignmentgroup\":\"True\",\"hovertemplate\":\"Month-Year=%{x|%B %Y}<br>Count=%{y}<extra></extra>\",\"legendgroup\":\"\",\"marker\":{\"color\":\"#636efa\",\"pattern\":{\"shape\":\"\"}},\"name\":\"\",\"offsetgroup\":\"\",\"orientation\":\"v\",\"showlegend\":false,\"textposition\":\"auto\",\"x\":[\"1885-01\",\"1885-02\",\"1885-03\",\"1885-04\",\"1885-05\",\"1885-06\",\"1885-08\",\"1885-11\",\"1886-03\",\"1886-04\",\"1886-05\",\"1886-06\",\"1886-07\",\"1886-08\",\"1886-09\",\"1886-10\",\"1886-11\",\"1886-12\",\"1887-01\",\"1887-02\",\"1887-03\",\"1887-04\",\"1887-05\",\"1887-06\",\"1887-07\",\"1887-08\",\"1887-09\",\"1887-10\",\"1887-11\",\"1887-12\",\"1888-01\",\"1888-02\",\"1888-03\",\"1888-04\",\"1888-05\",\"1888-06\",\"1888-07\",\"1888-09\",\"1888-10\",\"1888-11\",\"1888-12\",\"1889-01\",\"1889-02\",\"1889-03\",\"1889-04\",\"1889-07\",\"1889-10\",\"1889-11\",\"1889-12\",\"1890-01\",\"1890-02\",\"1890-04\",\"1890-05\",\"1890-07\",\"1890-08\",\"1890-09\",\"1890-11\",\"1890-12\",\"1891-02\",\"1891-03\",\"1891-04\",\"1891-05\",\"1891-06\",\"1891-08\",\"1891-11\",\"1891-12\",\"1892-01\",\"1892-02\",\"1892-03\",\"1892-04\",\"1892-05\",\"1892-06\",\"1892-07\",\"1892-08\",\"1892-09\",\"1892-10\",\"1892-11\",\"1892-12\",\"1893-01\",\"1893-02\",\"1893-03\",\"1893-04\",\"1893-05\",\"1893-06\",\"1893-07\",\"1893-08\",\"1893-09\",\"1893-10\",\"1893-11\",\"1893-12\",\"1894-01\",\"1894-02\",\"1894-03\",\"1894-04\",\"1894-05\",\"1894-06\",\"1894-07\",\"1894-08\",\"1894-09\",\"1894-10\",\"1894-11\",\"1894-12\",\"1895-01\",\"1895-02\",\"1895-03\",\"1895-04\",\"1895-05\",\"1895-06\",\"1895-07\",\"1895-08\",\"1895-09\",\"1895-10\",\"1895-11\",\"1895-12\",\"1896-01\",\"1896-02\",\"1896-03\",\"1896-04\",\"1896-05\",\"1896-06\",\"1896-07\",\"1896-08\",\"1896-09\",\"1896-10\",\"1896-11\",\"1897-03\",\"1897-04\",\"1897-05\",\"1897-06\",\"1897-07\",\"1897-08\",\"1897-09\",\"1897-10\",\"1897-11\",\"1897-12\",\"1898-01\",\"1898-02\",\"1898-03\",\"1898-06\",\"1898-07\",\"1898-08\",\"1898-09\",\"1898-10\",\"1898-11\",\"1898-12\",\"1899-01\",\"1899-02\",\"1899-05\",\"1899-06\",\"1899-07\",\"1899-08\",\"1899-09\",\"1899-10\",\"1899-11\",\"1899-12\",\"1900-02\",\"1900-04\",\"1900-05\",\"1900-07\",\"1900-08\",\"1900-09\",\"1900-10\",\"1900-11\",\"1900-12\",\"1901-01\",\"1901-02\",\"1901-03\",\"1901-04\",\"1901-05\",\"1901-06\",\"1901-07\",\"1901-08\",\"1901-09\",\"1901-10\",\"1901-11\",\"1901-12\",\"1902-01\",\"1902-02\",\"1902-03\",\"1902-04\",\"1902-05\",\"1902-06\",\"1902-07\",\"1902-08\",\"1902-09\",\"1902-10\",\"1902-11\",\"1902-12\",\"1903-01\",\"1903-02\",\"1903-03\",\"1903-04\",\"1903-05\",\"1903-06\",\"1903-07\",\"1903-08\",\"1903-09\",\"1903-10\",\"1903-11\",\"1903-12\",\"1904-01\",\"1904-02\",\"1904-03\",\"1904-04\",\"1904-05\",\"1904-06\",\"1904-07\",\"1904-08\",\"1904-09\",\"1904-10\",\"1904-11\",\"1904-12\",\"1905-01\",\"1905-02\",\"1905-03\",\"1905-04\",\"1905-05\",\"1905-06\",\"1905-07\",\"1905-08\",\"1905-09\",\"1905-10\",\"1905-11\",\"1905-12\",\"1906-01\",\"1906-02\",\"1906-03\",\"1906-04\",\"1906-05\",\"1906-06\",\"1906-07\",\"1906-08\",\"1906-09\",\"1906-10\",\"1906-11\",\"1906-12\",\"1907-01\",\"1907-02\",\"1907-03\",\"1907-04\",\"1907-05\",\"1907-06\",\"1907-07\",\"1907-08\",\"1907-09\",\"1907-10\",\"1907-11\",\"1907-12\",\"1908-01\",\"1908-02\",\"1908-03\",\"1908-04\",\"1908-05\",\"1908-06\",\"1908-07\",\"1908-08\",\"1908-09\",\"1908-11\",\"1909-01\",\"1909-02\",\"1909-03\",\"1909-05\",\"1909-06\",\"1909-07\",\"1909-08\",\"1909-09\",\"1909-10\",\"1909-11\",\"1909-12\",\"1910-02\",\"1910-03\",\"1910-04\",\"1910-05\",\"1910-06\",\"1910-07\",\"1910-08\",\"1910-09\",\"1910-10\",\"1910-11\",\"1910-12\",\"1911-01\",\"1911-02\",\"1911-03\",\"1911-04\",\"1911-05\",\"1911-06\",\"1911-08\",\"1911-10\",\"1912-01\",\"1912-02\",\"1912-03\",\"1912-04\",\"1912-05\",\"1912-06\",\"1912-07\",\"1912-08\",\"1912-09\",\"1912-10\",\"1912-11\",\"1912-12\",\"1913-01\",\"1913-02\",\"1913-03\",\"1913-04\",\"1913-05\",\"1913-06\",\"1913-08\",\"1913-09\",\"1913-10\",\"1913-11\",\"1913-12\",\"1914-01\",\"1914-03\",\"1914-04\",\"1914-05\",\"1914-06\",\"1914-07\",\"1914-08\",\"1914-10\",\"1914-11\",\"1914-12\",\"1915-01\",\"1915-02\",\"1915-03\",\"1915-04\",\"1915-05\",\"1915-06\",\"1915-07\",\"1915-08\",\"1915-09\",\"1915-10\",\"1915-12\",\"1916-01\",\"1916-02\",\"1916-04\",\"1916-07\",\"1916-12\",\"1917-01\",\"1917-04\",\"1917-05\",\"1917-06\",\"1917-07\",\"1917-08\",\"1917-09\",\"1917-10\",\"1917-11\",\"1917-12\",\"1918-01\",\"1918-02\",\"1918-03\",\"1918-05\",\"1918-06\",\"1918-08\",\"1918-09\",\"1918-10\",\"1918-11\",\"1918-12\",\"1919-01\",\"1919-02\",\"1919-03\",\"1919-04\",\"1919-05\",\"1919-06\",\"1919-07\",\"1919-08\",\"1919-09\",\"1919-10\",\"1919-11\",\"1919-12\",\"1920-01\",\"1920-02\",\"1920-03\",\"1920-04\",\"1920-05\",\"1920-06\",\"1920-07\",\"1920-08\",\"1920-09\",\"1920-10\",\"1920-11\",\"1920-12\"],\"xaxis\":\"x\",\"y\":[2,6,3,1,2,1,1,1,3,1,38,21,25,30,4,13,11,8,2,2,6,3,6,3,4,3,22,29,39,10,3,1,5,1,4,1,8,4,2,10,7,5,1,2,1,3,2,3,2,1,1,2,4,1,2,1,10,3,1,1,3,1,1,3,5,1,10,9,23,27,17,4,14,5,1,4,15,3,3,1,2,4,6,7,4,9,11,11,6,22,23,20,11,9,12,12,35,23,3,2,8,2,8,6,4,2,3,1,3,4,7,4,3,1,1,3,1,2,1,3,10,2,5,2,1,2,1,5,4,3,30,9,5,5,4,3,2,2,2,2,3,17,8,10,6,2,2,1,1,1,2,1,1,2,3,1,1,2,3,50,2,4,2,3,3,2,1,2,8,1,2,10,76,15,7,7,6,1,2,8,4,4,8,7,1,2,13,4,4,5,4,2,3,3,5,3,2,7,10,3,2,2,3,8,6,3,2,1,1,2,2,2,1,3,2,2,2,4,1,1,3,1,3,4,2,2,3,5,4,15,6,7,2,2,13,3,8,1,2,3,5,7,3,6,7,2,1,2,6,5,22,13,7,2,1,2,3,2,1,2,1,4,6,1,3,2,4,3,1,1,1,2,1,1,1,6,1,2,1,3,11,2,1,4,5,1,3,1,1,3,6,1,5,1,1,1,1,1,4,3,1,3,3,3,7,2,2,3,1,1,2,2,6,2,5,6,9,2,1,5,1,2,2,10,4,1,1,3,2,1,1,2,2,5,2,3,1,4,3,4,20,15,1,2,2,2,5,1,7,1,7,1,1,3,1,1,3,3,14,3,4,9,25,7,8,5,17,10,15,2,6,3,2,4,4,2,5,7,7,6,1],\"yaxis\":\"y\",\"type\":\"bar\"}],                        {\"template\":{\"data\":{\"histogram2dcontour\":[{\"type\":\"histogram2dcontour\",\"colorbar\":{\"outlinewidth\":0,\"ticks\":\"\"},\"colorscale\":[[0.0,\"#0d0887\"],[0.1111111111111111,\"#46039f\"],[0.2222222222222222,\"#7201a8\"],[0.3333333333333333,\"#9c179e\"],[0.4444444444444444,\"#bd3786\"],[0.5555555555555556,\"#d8576b\"],[0.6666666666666666,\"#ed7953\"],[0.7777777777777778,\"#fb9f3a\"],[0.8888888888888888,\"#fdca26\"],[1.0,\"#f0f921\"]]}],\"choropleth\":[{\"type\":\"choropleth\",\"colorbar\":{\"outlinewidth\":0,\"ticks\":\"\"}}],\"histogram2d\":[{\"type\":\"histogram2d\",\"colorbar\":{\"outlinewidth\":0,\"ticks\":\"\"},\"colorscale\":[[0.0,\"#0d0887\"],[0.1111111111111111,\"#46039f\"],[0.2222222222222222,\"#7201a8\"],[0.3333333333333333,\"#9c179e\"],[0.4444444444444444,\"#bd3786\"],[0.5555555555555556,\"#d8576b\"],[0.6666666666666666,\"#ed7953\"],[0.7777777777777778,\"#fb9f3a\"],[0.8888888888888888,\"#fdca26\"],[1.0,\"#f0f921\"]]}],\"heatmap\":[{\"type\":\"heatmap\",\"colorbar\":{\"outlinewidth\":0,\"ticks\":\"\"},\"colorscale\":[[0.0,\"#0d0887\"],[0.1111111111111111,\"#46039f\"],[0.2222222222222222,\"#7201a8\"],[0.3333333333333333,\"#9c179e\"],[0.4444444444444444,\"#bd3786\"],[0.5555555555555556,\"#d8576b\"],[0.6666666666666666,\"#ed7953\"],[0.7777777777777778,\"#fb9f3a\"],[0.8888888888888888,\"#fdca26\"],[1.0,\"#f0f921\"]]}],\"heatmapgl\":[{\"type\":\"heatmapgl\",\"colorbar\":{\"outlinewidth\":0,\"ticks\":\"\"},\"colorscale\":[[0.0,\"#0d0887\"],[0.1111111111111111,\"#46039f\"],[0.2222222222222222,\"#7201a8\"],[0.3333333333333333,\"#9c179e\"],[0.4444444444444444,\"#bd3786\"],[0.5555555555555556,\"#d8576b\"],[0.6666666666666666,\"#ed7953\"],[0.7777777777777778,\"#fb9f3a\"],[0.8888888888888888,\"#fdca26\"],[1.0,\"#f0f921\"]]}],\"contourcarpet\":[{\"type\":\"contourcarpet\",\"colorbar\":{\"outlinewidth\":0,\"ticks\":\"\"}}],\"contour\":[{\"type\":\"contour\",\"colorbar\":{\"outlinewidth\":0,\"ticks\":\"\"},\"colorscale\":[[0.0,\"#0d0887\"],[0.1111111111111111,\"#46039f\"],[0.2222222222222222,\"#7201a8\"],[0.3333333333333333,\"#9c179e\"],[0.4444444444444444,\"#bd3786\"],[0.5555555555555556,\"#d8576b\"],[0.6666666666666666,\"#ed7953\"],[0.7777777777777778,\"#fb9f3a\"],[0.8888888888888888,\"#fdca26\"],[1.0,\"#f0f921\"]]}],\"surface\":[{\"type\":\"surface\",\"colorbar\":{\"outlinewidth\":0,\"ticks\":\"\"},\"colorscale\":[[0.0,\"#0d0887\"],[0.1111111111111111,\"#46039f\"],[0.2222222222222222,\"#7201a8\"],[0.3333333333333333,\"#9c179e\"],[0.4444444444444444,\"#bd3786\"],[0.5555555555555556,\"#d8576b\"],[0.6666666666666666,\"#ed7953\"],[0.7777777777777778,\"#fb9f3a\"],[0.8888888888888888,\"#fdca26\"],[1.0,\"#f0f921\"]]}],\"mesh3d\":[{\"type\":\"mesh3d\",\"colorbar\":{\"outlinewidth\":0,\"ticks\":\"\"}}],\"scatter\":[{\"fillpattern\":{\"fillmode\":\"overlay\",\"size\":10,\"solidity\":0.2},\"type\":\"scatter\"}],\"parcoords\":[{\"type\":\"parcoords\",\"line\":{\"colorbar\":{\"outlinewidth\":0,\"ticks\":\"\"}}}],\"scatterpolargl\":[{\"type\":\"scatterpolargl\",\"marker\":{\"colorbar\":{\"outlinewidth\":0,\"ticks\":\"\"}}}],\"bar\":[{\"error_x\":{\"color\":\"#2a3f5f\"},\"error_y\":{\"color\":\"#2a3f5f\"},\"marker\":{\"line\":{\"color\":\"#E5ECF6\",\"width\":0.5},\"pattern\":{\"fillmode\":\"overlay\",\"size\":10,\"solidity\":0.2}},\"type\":\"bar\"}],\"scattergeo\":[{\"type\":\"scattergeo\",\"marker\":{\"colorbar\":{\"outlinewidth\":0,\"ticks\":\"\"}}}],\"scatterpolar\":[{\"type\":\"scatterpolar\",\"marker\":{\"colorbar\":{\"outlinewidth\":0,\"ticks\":\"\"}}}],\"histogram\":[{\"marker\":{\"pattern\":{\"fillmode\":\"overlay\",\"size\":10,\"solidity\":0.2}},\"type\":\"histogram\"}],\"scattergl\":[{\"type\":\"scattergl\",\"marker\":{\"colorbar\":{\"outlinewidth\":0,\"ticks\":\"\"}}}],\"scatter3d\":[{\"type\":\"scatter3d\",\"line\":{\"colorbar\":{\"outlinewidth\":0,\"ticks\":\"\"}},\"marker\":{\"colorbar\":{\"outlinewidth\":0,\"ticks\":\"\"}}}],\"scattermapbox\":[{\"type\":\"scattermapbox\",\"marker\":{\"colorbar\":{\"outlinewidth\":0,\"ticks\":\"\"}}}],\"scatterternary\":[{\"type\":\"scatterternary\",\"marker\":{\"colorbar\":{\"outlinewidth\":0,\"ticks\":\"\"}}}],\"scattercarpet\":[{\"type\":\"scattercarpet\",\"marker\":{\"colorbar\":{\"outlinewidth\":0,\"ticks\":\"\"}}}],\"carpet\":[{\"aaxis\":{\"endlinecolor\":\"#2a3f5f\",\"gridcolor\":\"white\",\"linecolor\":\"white\",\"minorgridcolor\":\"white\",\"startlinecolor\":\"#2a3f5f\"},\"baxis\":{\"endlinecolor\":\"#2a3f5f\",\"gridcolor\":\"white\",\"linecolor\":\"white\",\"minorgridcolor\":\"white\",\"startlinecolor\":\"#2a3f5f\"},\"type\":\"carpet\"}],\"table\":[{\"cells\":{\"fill\":{\"color\":\"#EBF0F8\"},\"line\":{\"color\":\"white\"}},\"header\":{\"fill\":{\"color\":\"#C8D4E3\"},\"line\":{\"color\":\"white\"}},\"type\":\"table\"}],\"barpolar\":[{\"marker\":{\"line\":{\"color\":\"#E5ECF6\",\"width\":0.5},\"pattern\":{\"fillmode\":\"overlay\",\"size\":10,\"solidity\":0.2}},\"type\":\"barpolar\"}],\"pie\":[{\"automargin\":true,\"type\":\"pie\"}]},\"layout\":{\"autotypenumbers\":\"strict\",\"colorway\":[\"#636efa\",\"#EF553B\",\"#00cc96\",\"#ab63fa\",\"#FFA15A\",\"#19d3f3\",\"#FF6692\",\"#B6E880\",\"#FF97FF\",\"#FECB52\"],\"font\":{\"color\":\"#2a3f5f\"},\"hovermode\":\"closest\",\"hoverlabel\":{\"align\":\"left\"},\"paper_bgcolor\":\"white\",\"plot_bgcolor\":\"#E5ECF6\",\"polar\":{\"bgcolor\":\"#E5ECF6\",\"angularaxis\":{\"gridcolor\":\"white\",\"linecolor\":\"white\",\"ticks\":\"\"},\"radialaxis\":{\"gridcolor\":\"white\",\"linecolor\":\"white\",\"ticks\":\"\"}},\"ternary\":{\"bgcolor\":\"#E5ECF6\",\"aaxis\":{\"gridcolor\":\"white\",\"linecolor\":\"white\",\"ticks\":\"\"},\"baxis\":{\"gridcolor\":\"white\",\"linecolor\":\"white\",\"ticks\":\"\"},\"caxis\":{\"gridcolor\":\"white\",\"linecolor\":\"white\",\"ticks\":\"\"}},\"coloraxis\":{\"colorbar\":{\"outlinewidth\":0,\"ticks\":\"\"}},\"colorscale\":{\"sequential\":[[0.0,\"#0d0887\"],[0.1111111111111111,\"#46039f\"],[0.2222222222222222,\"#7201a8\"],[0.3333333333333333,\"#9c179e\"],[0.4444444444444444,\"#bd3786\"],[0.5555555555555556,\"#d8576b\"],[0.6666666666666666,\"#ed7953\"],[0.7777777777777778,\"#fb9f3a\"],[0.8888888888888888,\"#fdca26\"],[1.0,\"#f0f921\"]],\"sequentialminus\":[[0.0,\"#0d0887\"],[0.1111111111111111,\"#46039f\"],[0.2222222222222222,\"#7201a8\"],[0.3333333333333333,\"#9c179e\"],[0.4444444444444444,\"#bd3786\"],[0.5555555555555556,\"#d8576b\"],[0.6666666666666666,\"#ed7953\"],[0.7777777777777778,\"#fb9f3a\"],[0.8888888888888888,\"#fdca26\"],[1.0,\"#f0f921\"]],\"diverging\":[[0,\"#8e0152\"],[0.1,\"#c51b7d\"],[0.2,\"#de77ae\"],[0.3,\"#f1b6da\"],[0.4,\"#fde0ef\"],[0.5,\"#f7f7f7\"],[0.6,\"#e6f5d0\"],[0.7,\"#b8e186\"],[0.8,\"#7fbc41\"],[0.9,\"#4d9221\"],[1,\"#276419\"]]},\"xaxis\":{\"gridcolor\":\"white\",\"linecolor\":\"white\",\"ticks\":\"\",\"title\":{\"standoff\":15},\"zerolinecolor\":\"white\",\"automargin\":true,\"zerolinewidth\":2},\"yaxis\":{\"gridcolor\":\"white\",\"linecolor\":\"white\",\"ticks\":\"\",\"title\":{\"standoff\":15},\"zerolinecolor\":\"white\",\"automargin\":true,\"zerolinewidth\":2},\"scene\":{\"xaxis\":{\"backgroundcolor\":\"#E5ECF6\",\"gridcolor\":\"white\",\"linecolor\":\"white\",\"showbackground\":true,\"ticks\":\"\",\"zerolinecolor\":\"white\",\"gridwidth\":2},\"yaxis\":{\"backgroundcolor\":\"#E5ECF6\",\"gridcolor\":\"white\",\"linecolor\":\"white\",\"showbackground\":true,\"ticks\":\"\",\"zerolinecolor\":\"white\",\"gridwidth\":2},\"zaxis\":{\"backgroundcolor\":\"#E5ECF6\",\"gridcolor\":\"white\",\"linecolor\":\"white\",\"showbackground\":true,\"ticks\":\"\",\"zerolinecolor\":\"white\",\"gridwidth\":2}},\"shapedefaults\":{\"line\":{\"color\":\"#2a3f5f\"}},\"annotationdefaults\":{\"arrowcolor\":\"#2a3f5f\",\"arrowhead\":0,\"arrowwidth\":1},\"geo\":{\"bgcolor\":\"white\",\"landcolor\":\"#E5ECF6\",\"subunitcolor\":\"white\",\"showland\":true,\"showlakes\":true,\"lakecolor\":\"white\"},\"title\":{\"x\":0.05},\"mapbox\":{\"style\":\"light\"}}},\"xaxis\":{\"anchor\":\"y\",\"domain\":[0.0,1.0],\"title\":{\"text\":\"Month-Year\"},\"tickangle\":90},\"yaxis\":{\"anchor\":\"x\",\"domain\":[0.0,1.0],\"title\":{\"text\":\"Count\"}},\"legend\":{\"tracegroupgap\":0},\"title\":{\"text\":\"Bar Plot: Frequency of Entries by Month\"},\"barmode\":\"relative\",\"height\":400,\"width\":800},                        {\"responsive\": true}                    ).then(function(){\n",
       "                            \n",
       "var gd = document.getElementById('e26efa7b-181b-41c5-b0a3-9260dce61f62');\n",
       "var x = new MutationObserver(function (mutations, observer) {{\n",
       "        var display = window.getComputedStyle(gd).display;\n",
       "        if (!display || display === 'none') {{\n",
       "            console.log([gd, 'removed!']);\n",
       "            Plotly.purge(gd);\n",
       "            observer.disconnect();\n",
       "        }}\n",
       "}});\n",
       "\n",
       "// Listen for the removal of the full notebook cells\n",
       "var notebookContainer = gd.closest('#notebook-container');\n",
       "if (notebookContainer) {{\n",
       "    x.observe(notebookContainer, {childList: true});\n",
       "}}\n",
       "\n",
       "// Listen for the clearing of the current output cell\n",
       "var outputEl = gd.closest('.output');\n",
       "if (outputEl) {{\n",
       "    x.observe(outputEl, {childList: true});\n",
       "}}\n",
       "\n",
       "                        })                };                });            </script>        </div>"
      ]
     },
     "metadata": {},
     "output_type": "display_data"
    }
   ],
   "source": [
    "import plotly.express as px\n",
    "\n",
    "fig = px.bar(frequency_two, x='month_year', y='count',\n",
    "             labels={'month_year': 'Month-Year', 'count': 'Count'},\n",
    "             title='Bar Plot: Frequency of Entries by Month',\n",
    "             hover_data={'month_year': '|%B %Y'},\n",
    "             width=800, height=400)\n",
    "\n",
    "fig.update_xaxes(tickangle=90)\n",
    "\n",
    "fig.show()"
   ]
  },
  {
   "cell_type": "code",
   "execution_count": null,
   "id": "1c68360f-bc42-473a-b454-713a4111d1ee",
   "metadata": {},
   "outputs": [],
   "source": []
  }
 ],
 "metadata": {
  "kernelspec": {
   "display_name": "Python 3 (ipykernel)",
   "language": "python",
   "name": "python3"
  },
  "language_info": {
   "codemirror_mode": {
    "name": "ipython",
    "version": 3
   },
   "file_extension": ".py",
   "mimetype": "text/x-python",
   "name": "python",
   "nbconvert_exporter": "python",
   "pygments_lexer": "ipython3",
   "version": "3.10.13"
  }
 },
 "nbformat": 4,
 "nbformat_minor": 5
}
